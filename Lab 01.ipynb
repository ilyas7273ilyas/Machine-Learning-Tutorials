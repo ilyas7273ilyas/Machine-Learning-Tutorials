{
 "cells": [
  {
   "cell_type": "code",
   "execution_count": 1,
   "metadata": {},
   "outputs": [],
   "source": [
    "import numpy as np"
   ]
  },
  {
   "cell_type": "markdown",
   "metadata": {},
   "source": [
    "# Question 1"
   ]
  },
  {
   "cell_type": "code",
   "execution_count": 2,
   "metadata": {},
   "outputs": [
    {
     "name": "stdout",
     "output_type": "stream",
     "text": [
      "x:  [22 17 35 43 76 37 45 38 81 11]\n",
      "y:  [31 70 46 60 58 83 16 18 10 84]\n"
     ]
    },
    {
     "data": {
      "text/plain": [
       "False"
      ]
     },
     "execution_count": 2,
     "metadata": {},
     "output_type": "execute_result"
    }
   ],
   "source": [
    "x = np.random.randint(5,90,10)\n",
    "#x = x.astype(int)\n",
    "print(\"x: \",x)\n",
    "\n",
    "y = np.random.randint(5,95,10)\n",
    "#y = y.astype(int)\n",
    "print(\"y: \",y)\n",
    "\n",
    "np.array_equal(x,y)"
   ]
  },
  {
   "cell_type": "markdown",
   "metadata": {},
   "source": [
    "# Question 2"
   ]
  },
  {
   "cell_type": "code",
   "execution_count": 4,
   "metadata": {},
   "outputs": [
    {
     "data": {
      "text/plain": [
       "array([0., 0., 0., 0., 0., 0., 0., 0.])"
      ]
     },
     "execution_count": 4,
     "metadata": {},
     "output_type": "execute_result"
    }
   ],
   "source": [
    "ar = np.zeros((8))\n",
    "ar"
   ]
  },
  {
   "cell_type": "code",
   "execution_count": 5,
   "metadata": {},
   "outputs": [
    {
     "data": {
      "text/plain": [
       "array([0., 0., 0., 0., 1., 0., 0., 0.])"
      ]
     },
     "execution_count": 5,
     "metadata": {},
     "output_type": "execute_result"
    }
   ],
   "source": [
    "ar[4]=1\n",
    "ar"
   ]
  },
  {
   "cell_type": "code",
   "execution_count": 6,
   "metadata": {},
   "outputs": [],
   "source": [
    "ar.flags.writeable= False"
   ]
  },
  {
   "cell_type": "code",
   "execution_count": 7,
   "metadata": {},
   "outputs": [
    {
     "ename": "ValueError",
     "evalue": "assignment destination is read-only",
     "output_type": "error",
     "traceback": [
      "\u001b[1;31m---------------------------------------------------------------------------\u001b[0m",
      "\u001b[1;31mValueError\u001b[0m                                Traceback (most recent call last)",
      "\u001b[1;32m<ipython-input-7-850a6e5a8c41>\u001b[0m in \u001b[0;36m<module>\u001b[1;34m\u001b[0m\n\u001b[1;32m----> 1\u001b[1;33m \u001b[0mar\u001b[0m\u001b[1;33m[\u001b[0m\u001b[1;36m5\u001b[0m\u001b[1;33m]\u001b[0m\u001b[1;33m=\u001b[0m\u001b[1;36m1\u001b[0m\u001b[1;33m\u001b[0m\u001b[1;33m\u001b[0m\u001b[0m\n\u001b[0m",
      "\u001b[1;31mValueError\u001b[0m: assignment destination is read-only"
     ]
    }
   ],
   "source": [
    "ar[5]=1"
   ]
  },
  {
   "cell_type": "markdown",
   "metadata": {},
   "source": [
    "# Question 3"
   ]
  },
  {
   "cell_type": "code",
   "execution_count": 11,
   "metadata": {},
   "outputs": [
    {
     "name": "stdout",
     "output_type": "stream",
     "text": [
      "Original array:\n",
      "[37 24 19  9 11 17 21 19 24 36]\n",
      "Maximum value replaced by 100:\n",
      "[100  24  19   9  11  17  21  19  24  36]\n",
      "Minimum value replaced by 0:\n",
      "[100  24  19   0  11  17  21  19  24  36]\n"
     ]
    }
   ],
   "source": [
    "y = np.random.randint(1,43,10)\n",
    "#y = y.astype(int)\n",
    "print(\"Original array:\")\n",
    "print(y)\n",
    "\n",
    "y[y.argmax()] = 100\n",
    "print(\"Maximum value replaced by 100:\")\n",
    "print(y)\n",
    "\n",
    "y[y.argmin()] = 0\n",
    "print(\"Minimum value replaced by 0:\")\n",
    "print(y)"
   ]
  },
  {
   "cell_type": "markdown",
   "metadata": {},
   "source": [
    "# Question 4"
   ]
  },
  {
   "cell_type": "code",
   "execution_count": 12,
   "metadata": {},
   "outputs": [
    {
     "name": "stdout",
     "output_type": "stream",
     "text": [
      "Array is:  [15 24 98 65 43 20 78 83]\n",
      "Enter the value to which nearest element is to be found: 59\n",
      "Nearest element to the given values is :  65\n"
     ]
    }
   ],
   "source": [
    "arr = np.array([15,24,98,65,43,20,78,83])\n",
    "print(\"Array is: \", arr)\n",
    "\n",
    "n = int(input(\"Enter the value to which nearest element is to be found: \"))\n",
    "\n",
    "diff_arr = np.absolute(arr-n)\n",
    "#diff_arr\n",
    "\n",
    "index = diff_arr.argmin()\n",
    "#index\n",
    "\n",
    "print(\"Nearest element to the given values is : \", arr[index])"
   ]
  },
  {
   "cell_type": "markdown",
   "metadata": {},
   "source": [
    "# Question 5"
   ]
  },
  {
   "cell_type": "code",
   "execution_count": 13,
   "metadata": {},
   "outputs": [
    {
     "name": "stdout",
     "output_type": "stream",
     "text": [
      "Matrix is:\n",
      " [[0.43190157 0.36251547 0.60384391 0.25078078 0.68503214]\n",
      " [0.76598351 0.60303004 0.49067432 0.07910846 0.54193901]\n",
      " [0.44208062 0.35220465 0.44256671 0.826057   0.55053465]\n",
      " [0.34703698 0.48581777 0.0737352  0.18976848 0.0398603 ]]\n",
      "\n",
      "After Subtracting the mean of each row:\n",
      " [[-0.03491321 -0.1042993   0.13702913 -0.21603399  0.21821737]\n",
      " [ 0.26983644  0.10688297 -0.00547275 -0.41703861  0.04579194]\n",
      " [-0.08060811 -0.17048407 -0.08012202  0.30336828  0.02784593]\n",
      " [ 0.11979323  0.25857403 -0.15350855 -0.03747527 -0.18738344]]\n"
     ]
    }
   ],
   "source": [
    "arr = np.random.rand(4,5)\n",
    "print(\"Matrix is:\\n\", arr)\n",
    "\n",
    "arr2 = arr - arr.mean(axis=1, keepdims=True)\n",
    "print(\"\\nAfter Subtracting the mean of each row:\\n\", arr2)"
   ]
  },
  {
   "cell_type": "code",
   "execution_count": 14,
   "metadata": {},
   "outputs": [],
   "source": [
    "import pandas as pd"
   ]
  },
  {
   "cell_type": "markdown",
   "metadata": {},
   "source": [
    "# Question 6"
   ]
  },
  {
   "cell_type": "code",
   "execution_count": 15,
   "metadata": {},
   "outputs": [
    {
     "name": "stdout",
     "output_type": "stream",
     "text": [
      "Series Before Converting index into Columns:\n",
      "0    1\n",
      "1    4\n",
      "2    3\n",
      "3    8\n",
      "4    6\n",
      "5    9\n",
      "dtype: int64\n",
      "\n",
      "DataFrame After Converting index into Columns:\n",
      "   index  0\n",
      "0      0  1\n",
      "1      1  4\n",
      "2      2  3\n",
      "3      3  8\n",
      "4      4  6\n",
      "5      5  9\n"
     ]
    }
   ],
   "source": [
    "x = pd.Series([1,4,3,8,6,9])\n",
    "print(\"Series Before Converting index into Columns:\")\n",
    "print(x)\n",
    "x=x.reset_index()\n",
    "print(\"\\nDataFrame After Converting index into Columns:\")\n",
    "print(x)"
   ]
  },
  {
   "cell_type": "markdown",
   "metadata": {},
   "source": [
    "# Question 7"
   ]
  },
  {
   "cell_type": "code",
   "execution_count": 17,
   "metadata": {},
   "outputs": [
    {
     "name": "stdout",
     "output_type": "stream",
     "text": [
      "Items of series X not present in series Y\n",
      " 1    4\n",
      "4    6\n",
      "5    9\n",
      "dtype: int64\n"
     ]
    }
   ],
   "source": [
    "x = pd.Series([1,4,3,8,6,9])\n",
    "y = pd.Series([2,1,3,5,8,3])\n",
    "\n",
    "result = x[~x.isin(y)]\n",
    "print(\"Items of series X not present in series Y\\n\",result)"
   ]
  },
  {
   "cell_type": "markdown",
   "metadata": {},
   "source": [
    "# Question 8"
   ]
  },
  {
   "cell_type": "code",
   "execution_count": 18,
   "metadata": {},
   "outputs": [
    {
     "name": "stdout",
     "output_type": "stream",
     "text": [
      "Minimum Value is=  1\n",
      "25%=  3.25\n",
      "Median=  5.0\n",
      "75%=  7.5\n",
      "Mean=  5.166666666666667\n",
      "Maximum Value is=  9\n"
     ]
    }
   ],
   "source": [
    "x = pd.Series([1,4,3,8,6,9])\n",
    "# x.describe()\n",
    "print(\"Minimum Value is= \",x.min())\n",
    "print(\"25%= \",x.quantile(0.25))\n",
    "print(\"Median= \",x.median())\n",
    "print(\"75%= \",x.quantile(0.75))\n",
    "print(\"Mean= \",x.mean())\n",
    "print(\"Maximum Value is= \",x.max())"
   ]
  },
  {
   "cell_type": "markdown",
   "metadata": {},
   "source": [
    "# Question 9"
   ]
  },
  {
   "cell_type": "code",
   "execution_count": 19,
   "metadata": {},
   "outputs": [
    {
     "name": "stdout",
     "output_type": "stream",
     "text": [
      "Original Series:\n",
      "0    1\n",
      "1    1\n",
      "2    1\n",
      "3    1\n",
      "4    4\n",
      "5    1\n",
      "6    1\n",
      "7    3\n",
      "8    4\n",
      "dtype: int32\n",
      "Top 2 Freq: 1    6\n",
      "4    2\n",
      "3    1\n",
      "dtype: int64\n",
      "0        1\n",
      "1        1\n",
      "2        1\n",
      "3        1\n",
      "4    Other\n",
      "5        1\n",
      "6        1\n",
      "7    Other\n",
      "8    Other\n",
      "dtype: object\n"
     ]
    }
   ],
   "source": [
    "# W3\n",
    "import pandas as pd\n",
    "import numpy as np\n",
    "np.random.RandomState(10)\n",
    "num_series = pd.Series(np.random.randint(1, 5, [9]))\n",
    "print(\"Original Series:\")\n",
    "print(num_series)\n",
    "print(\"Top 2 Freq:\", num_series.value_counts())\n",
    "result = num_series[~num_series.isin(num_series.value_counts().index[:1])] = 'Other'\n",
    "print(num_series)"
   ]
  },
  {
   "cell_type": "markdown",
   "metadata": {},
   "source": [
    "# Question 10"
   ]
  },
  {
   "cell_type": "code",
   "execution_count": 20,
   "metadata": {},
   "outputs": [
    {
     "name": "stdout",
     "output_type": "stream",
     "text": [
      "Before Capitalizing\n",
      " 0      azam\n",
      "1    arbaaz\n",
      "2    armaan\n",
      "3     rehan\n",
      "4    saddam\n",
      "dtype: object\n",
      "\n",
      "After Capitalzing first word of each element:\n",
      " 0      Azam\n",
      "1    Arbaaz\n",
      "2    Armaan\n",
      "3     Rehan\n",
      "4    Saddam\n",
      "dtype: object\n"
     ]
    }
   ],
   "source": [
    "name = pd.Series(['azam','arbaaz','armaan','rehan','saddam'])\n",
    "print(\"Before Capitalizing\\n\",name)\n",
    "\n",
    "str_res = name.str.capitalize()\n",
    "#str_res = str.map(lambda x:x[0].upper)\n",
    "print(\"\\nAfter Capitalzing first word of each element:\\n\",str_res)"
   ]
  },
  {
   "cell_type": "code",
   "execution_count": null,
   "metadata": {},
   "outputs": [],
   "source": []
  }
 ],
 "metadata": {
  "kernelspec": {
   "display_name": "Python 3",
   "language": "python",
   "name": "python3"
  },
  "language_info": {
   "codemirror_mode": {
    "name": "ipython",
    "version": 3
   },
   "file_extension": ".py",
   "mimetype": "text/x-python",
   "name": "python",
   "nbconvert_exporter": "python",
   "pygments_lexer": "ipython3",
   "version": "3.8.5"
  }
 },
 "nbformat": 4,
 "nbformat_minor": 4
}
